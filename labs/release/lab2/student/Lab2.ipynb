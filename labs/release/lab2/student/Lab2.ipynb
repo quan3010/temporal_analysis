{
 "cells": [
  {
   "cell_type": "markdown",
   "id": "74b9b3df",
   "metadata": {},
   "source": [
    "# Lab 2: Cluster analysis of sequential data"
   ]
  },
  {
   "cell_type": "markdown",
   "id": "d9687898",
   "metadata": {},
   "source": [
    "## About the dataset\n",
    "\n",
    "In this lab, we are going to use the built-in `biofam` data set from the `TraMineR` package. See more details [here](http://traminer.unige.ch/doc/biofam.html)\n",
    "\n",
    "This data consists information about the Family life states from the Swiss Household Panel biographical survey. 16 year-long family life sequences built from the retrospective biographical survey carried out by the Swiss Household Panel (SHP) in 2002.\n",
    "\n",
    "A data frame with 2000 rows, 16 state variables, 1 id variable and 7 covariates and 2 weights variables.\n",
    "\n",
    "The data set contains (in columns 10 to 25) sequences of family life states from age 15 to 30 (sequence length is 16) and a series of covariates. The sequences are a sample of 2000 sequences of those created from the SHP biographical survey. It includes only individuals who were at least 30 years old at the time of the survey. The biofam data set describes family life courses of 2000 individuals born between 1909 and 1972.\n",
    "\n",
    "The states numbered from 0 to 7 are defined from the combination of five basic states, namely Living with parents (Parent), Left home (Left), Married (Marr), Having Children (Child), Divorced:\n",
    "\n",
    "0 = \"Parent\"  \n",
    "1 = \"Left\"  \n",
    "2 = \"Married\"  \n",
    "3 = \"Left+Marr\"  \n",
    "4 = \"Child\"  \n",
    "5 = \"Left+Child\"  \n",
    "6 = \"Left+Marr+Child\"  \n",
    "7 = \"Divorced\"  \n",
    "\n",
    "| Variable | Label                                          |\n",
    "|----------|------------------------------------------------|\n",
    "| idhous   | ID                                             |\n",
    "| sex      | sex                                            |\n",
    "| birthy   | birth year                                     |\n",
    "| nat102   | nationality                                    |\n",
    "| plingu02 | interview language                             |\n",
    "| p02r01   | confession or religion                         |\n",
    "| p02r04   | participation in religious services: frequency |\n",
    "| cspfaj   | Swiss socio-professional category: Fathers job |\n",
    "| cspmoj   | Swiss socio-professional category: Mothers job |\n",
    "| a15      | family status at age 15                        |\n",
    "| ...      |                                                |\n",
    "| a30      | family status at age 30                        |\n"
   ]
  },
  {
   "cell_type": "code",
   "execution_count": 1,
   "id": "8ba57b72",
   "metadata": {},
   "outputs": [],
   "source": [
    "library(tidyverse)\n",
    "library(TraMineR)\n",
    "library(cluster)\n",
    "data(biofam)\n",
    "str(biofam)"
   ]
  },
  {
   "cell_type": "code",
   "execution_count": 2,
   "id": "e065029f",
   "metadata": {},
   "outputs": [],
   "source": [
    "# state labels\n",
    "bfstates <- c(\"Parent\", \"Left\", \"Married\", \"Left+Marr\", \"Child\", \"Left+Child\", \"Left+Marr+Child\", \"Divorced\")\n",
    "\n",
    "# define sequence object\n",
    "biofam.seq <- seqdef(biofam, 10:25, states = bfstates, labels = bfstates)\n"
   ]
  },
  {
   "cell_type": "markdown",
   "id": "26016615",
   "metadata": {},
   "source": [
    "## Q1. Create a normalized dissimilarity matrix using Longest Common Subsequences method\n",
    "\n",
    "Store the dissimilarity matrix in `biofam.seq.LCS`"
   ]
  },
  {
   "cell_type": "code",
   "execution_count": 3,
   "id": "e787b633",
   "metadata": {
    "tags": []
   },
   "outputs": [],
   "source": [
    "biofam.seq.LCS <- NULL\n",
    "\n",
    "..."
   ]
  },
  {
   "cell_type": "markdown",
   "id": "2d029c71",
   "metadata": {},
   "source": [
    "## Q2. Plot the pairs of sequences\n",
    "\n",
    "- Plot the top 5 sequences that are the most similar to sequence 1\n",
    "- Plot the top 5 sequences that are the least similar to sequence 1"
   ]
  },
  {
   "cell_type": "code",
   "execution_count": 4,
   "id": "2d3e583b",
   "metadata": {
    "tags": []
   },
   "outputs": [],
   "source": [
    "most_sim <- head(which(biofam.seq.LCS==min(biofam.seq.LCS), arr.ind=T))\n",
    "most_sim\n",
    "least_sim <- head(which(biofam.seq.LCS==max(biofam.seq.LCS), arr.ind=T))\n",
    "least_sim"
   ]
  },
  {
   "cell_type": "code",
   "execution_count": 5,
   "id": "7c3d3901",
   "metadata": {
    "tags": []
   },
   "outputs": [],
   "source": [
    "..."
   ]
  },
  {
   "cell_type": "markdown",
   "id": "c31d2a4a",
   "metadata": {},
   "source": [
    "## Q3. Create a dissimilarity matrix using optimal matching using transition rates as substitution cost matrix"
   ]
  },
  {
   "cell_type": "code",
   "execution_count": 6,
   "id": "ea5dff18",
   "metadata": {
    "tags": []
   },
   "outputs": [],
   "source": [
    "biofam.seq.subcost <- NULL\n",
    "biofam.seq.OM <- NULL\n",
    "\n",
    "..."
   ]
  },
  {
   "cell_type": "code",
   "execution_count": 12,
   "id": "06055d4c",
   "metadata": {},
   "outputs": [],
   "source": [
    "?seqdist"
   ]
  },
  {
   "cell_type": "markdown",
   "id": "04fee26f",
   "metadata": {},
   "source": [
    "## Q4. Perform an agglomerative clustering using ward linkage method\n",
    "\n",
    "- You should use the dissimilarity matrix with optimal matching generated in Q3\n",
    "- Plot the dendogram"
   ]
  },
  {
   "cell_type": "code",
   "execution_count": 7,
   "id": "55f3480c",
   "metadata": {
    "tags": []
   },
   "outputs": [],
   "source": [
    "clusterward <- NULL\n",
    "\n",
    "..."
   ]
  },
  {
   "cell_type": "markdown",
   "id": "3beea601",
   "metadata": {},
   "source": [
    "## Q5: Select clusters\n",
    "\n",
    "- Cut the dendogram tree as appropriate using the `cutree()` function\n",
    "- List the number of observations in each cluster\n",
    "- Plot the sequence frequency by cluster membership (hint: `seqfplot()`)\n",
    "- Plot the state distribution by cluster membership (hint: `seqdplot()`)"
   ]
  },
  {
   "cell_type": "code",
   "execution_count": 9,
   "id": "ca4b585e",
   "metadata": {
    "tags": []
   },
   "outputs": [],
   "source": [
    "...\n",
    "\n",
    "\n",
    "s1 = Read (2) - Write (2)\n",
    "s2 = Read(5) - Write (5)"
   ]
  },
  {
   "cell_type": "code",
   "execution_count": 10,
   "id": "3e2a4756",
   "metadata": {
    "tags": []
   },
   "outputs": [],
   "source": [
    "?seqcost()"
   ]
  }
 ],
 "metadata": {
  "kernelspec": {
   "display_name": "R",
   "language": "R",
   "name": "ir"
  },
  "language_info": {
   "codemirror_mode": "r",
   "file_extension": ".r",
   "mimetype": "text/x-r-source",
   "name": "R",
   "pygments_lexer": "r",
   "version": "4.1.0"
  }
 },
 "nbformat": 4,
 "nbformat_minor": 5
}
