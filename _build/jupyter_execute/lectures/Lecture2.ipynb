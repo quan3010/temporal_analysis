{
 "cells": [
  {
   "cell_type": "markdown",
   "id": "7ceda91a-5c68-442d-bb66-7a6979c5bd2b",
   "metadata": {},
   "source": [
    "![](img/solar_logo.png)\n",
    "# Lecture 2: Clustering of sequential data in education\n",
    "\n",
    "Quan Nguyen, Department of Statistics, University of British Columbia"
   ]
  },
  {
   "cell_type": "code",
   "execution_count": 1,
   "id": "df0c6162-b464-4a48-a7e4-2f5f0e3bd863",
   "metadata": {},
   "outputs": [
    {
     "name": "stderr",
     "output_type": "stream",
     "text": [
      "── \u001b[1mAttaching packages\u001b[22m ──────────────────────────────────────────────────────────────────────────── tidyverse 1.3.1 ──\n",
      "\n"
     ]
    },
    {
     "name": "stderr",
     "output_type": "stream",
     "text": [
      "\u001b[32m✔\u001b[39m \u001b[34mggplot2\u001b[39m 3.3.5     \u001b[32m✔\u001b[39m \u001b[34mpurrr  \u001b[39m 0.3.4\n",
      "\u001b[32m✔\u001b[39m \u001b[34mtibble \u001b[39m 3.1.5     \u001b[32m✔\u001b[39m \u001b[34mdplyr  \u001b[39m 1.0.7\n",
      "\u001b[32m✔\u001b[39m \u001b[34mtidyr  \u001b[39m 1.1.3     \u001b[32m✔\u001b[39m \u001b[34mstringr\u001b[39m 1.4.0\n",
      "\u001b[32m✔\u001b[39m \u001b[34mreadr  \u001b[39m 2.0.1     \u001b[32m✔\u001b[39m \u001b[34mforcats\u001b[39m 0.5.1\n",
      "\n"
     ]
    },
    {
     "name": "stderr",
     "output_type": "stream",
     "text": [
      "Warning message:\n",
      "“package ‘tibble’ was built under R version 4.1.1”\n"
     ]
    },
    {
     "name": "stderr",
     "output_type": "stream",
     "text": [
      "Warning message:\n",
      "“package ‘readr’ was built under R version 4.1.1”\n"
     ]
    },
    {
     "name": "stderr",
     "output_type": "stream",
     "text": [
      "── \u001b[1mConflicts\u001b[22m ─────────────────────────────────────────────────────────────────────────────── tidyverse_conflicts() ──\n",
      "\u001b[31m✖\u001b[39m \u001b[34mdplyr\u001b[39m::\u001b[32mfilter()\u001b[39m masks \u001b[34mstats\u001b[39m::filter()\n",
      "\u001b[31m✖\u001b[39m \u001b[34mdplyr\u001b[39m::\u001b[32mlag()\u001b[39m    masks \u001b[34mstats\u001b[39m::lag()\n",
      "\n"
     ]
    },
    {
     "name": "stderr",
     "output_type": "stream",
     "text": [
      "Warning message:\n",
      "“package ‘TraMineR’ was built under R version 4.1.1”\n"
     ]
    },
    {
     "name": "stderr",
     "output_type": "stream",
     "text": [
      "\n",
      "TraMineR stable version 2.2-3 (Built: 2022-01-26)\n",
      "\n"
     ]
    },
    {
     "name": "stderr",
     "output_type": "stream",
     "text": [
      "Website: http://traminer.unige.ch\n",
      "\n"
     ]
    },
    {
     "name": "stderr",
     "output_type": "stream",
     "text": [
      "Please type 'citation(\"TraMineR\")' for citation information.\n",
      "\n",
      "\n"
     ]
    },
    {
     "name": "stderr",
     "output_type": "stream",
     "text": [
      "Warning message:\n",
      "“package ‘cluster’ was built under R version 4.1.1”\n"
     ]
    }
   ],
   "source": [
    "library(tidyverse)\n",
    "library(TraMineR)\n",
    "library(cluster)"
   ]
  },
  {
   "cell_type": "markdown",
   "id": "83d94488-ff18-488e-8a11-8073bbec6848",
   "metadata": {},
   "source": [
    "## 1. Similarities and distances between sequences"
   ]
  },
  {
   "cell_type": "markdown",
   "id": "cfc8d570-8f5e-4ea3-bc33-ec7e184970a0",
   "metadata": {},
   "source": [
    "Similarity between sequences can be measured via\n",
    "\n",
    "- **Common attributes**: The more common attributes, the more similar \n",
    "- **Edit distance**: The lower the edit cost, the more similar"
   ]
  },
  {
   "cell_type": "code",
   "execution_count": 2,
   "id": "d9398503-798d-4699-bb3b-3c9b0d057c8f",
   "metadata": {},
   "outputs": [
    {
     "name": "stderr",
     "output_type": "stream",
     "text": [
      " [>] found missing values ('NA') in sequence data\n",
      "\n"
     ]
    },
    {
     "name": "stderr",
     "output_type": "stream",
     "text": [
      " [>] preparing 5 sequences\n",
      "\n"
     ]
    },
    {
     "name": "stderr",
     "output_type": "stream",
     "text": [
      " [>] coding void elements with '%' and missing values with '*'\n",
      "\n"
     ]
    },
    {
     "name": "stderr",
     "output_type": "stream",
     "text": [
      " [>] 5 distinct states appear in the data: \n",
      "\n"
     ]
    },
    {
     "name": "stderr",
     "output_type": "stream",
     "text": [
      "     1 = M\n",
      "\n"
     ]
    },
    {
     "name": "stderr",
     "output_type": "stream",
     "text": [
      "     2 = MC\n",
      "\n"
     ]
    },
    {
     "name": "stderr",
     "output_type": "stream",
     "text": [
      "     3 = S\n",
      "\n"
     ]
    },
    {
     "name": "stderr",
     "output_type": "stream",
     "text": [
      "     4 = SC\n",
      "\n"
     ]
    },
    {
     "name": "stderr",
     "output_type": "stream",
     "text": [
      "     5 = U\n",
      "\n"
     ]
    },
    {
     "name": "stderr",
     "output_type": "stream",
     "text": [
      " [>] state coding:\n",
      "\n"
     ]
    },
    {
     "name": "stderr",
     "output_type": "stream",
     "text": [
      "       [alphabet]  [label]  [long label] \n",
      "\n"
     ]
    },
    {
     "name": "stderr",
     "output_type": "stream",
     "text": [
      "     1  M           M        M\n",
      "\n"
     ]
    },
    {
     "name": "stderr",
     "output_type": "stream",
     "text": [
      "     2  MC          MC       MC\n",
      "\n"
     ]
    },
    {
     "name": "stderr",
     "output_type": "stream",
     "text": [
      "     3  S           S        S\n",
      "\n"
     ]
    },
    {
     "name": "stderr",
     "output_type": "stream",
     "text": [
      "     4  SC          SC       SC\n",
      "\n"
     ]
    },
    {
     "name": "stderr",
     "output_type": "stream",
     "text": [
      "     5  U           U        U\n",
      "\n"
     ]
    },
    {
     "name": "stderr",
     "output_type": "stream",
     "text": [
      " [>] 5 sequences in the data set\n",
      "\n"
     ]
    },
    {
     "name": "stderr",
     "output_type": "stream",
     "text": [
      " [>] min/max sequence length: 2/5\n",
      "\n"
     ]
    },
    {
     "name": "stdout",
     "output_type": "stream",
     "text": [
      "    Sequence   \n",
      "[1] S-U        \n",
      "[2] S-U-M      \n",
      "[3] S-U-M-MC   \n",
      "[4] S-U-M-MC-SC\n",
      "[5] U-M-MC     \n"
     ]
    }
   ],
   "source": [
    "data(famform)\n",
    "famform.seq <- seqdef(famform)\n",
    "print(famform.seq)"
   ]
  },
  {
   "cell_type": "markdown",
   "id": "621c0a37-5b0a-4879-b66a-acf885dc7e07",
   "metadata": {},
   "source": [
    "### Common attributes\n",
    "#### Longest Common Prefix (LCP) distances\n",
    "\n",
    "[1] S-U        \n",
    "[2] S-U-M \n",
    "\n",
    "Longest Common Prefix = [S-U]\n",
    "\n",
    "Similarity = 2  \n",
    "Dismilarity = 1"
   ]
  },
  {
   "cell_type": "code",
   "execution_count": 3,
   "id": "a45d4aaa-60d5-44b1-9fb9-0c9ff5b1bd16",
   "metadata": {},
   "outputs": [
    {
     "name": "stderr",
     "output_type": "stream",
     "text": [
      " [>] 5 sequences with 5 distinct states\n",
      "\n"
     ]
    },
    {
     "name": "stderr",
     "output_type": "stream",
     "text": [
      " [>] 5 distinct  sequences \n",
      "\n"
     ]
    },
    {
     "name": "stderr",
     "output_type": "stream",
     "text": [
      " [>] min/max sequence lengths: 2/5\n",
      "\n"
     ]
    },
    {
     "name": "stderr",
     "output_type": "stream",
     "text": [
      " [>] computing distances using the LCP metric\n",
      "\n"
     ]
    },
    {
     "name": "stderr",
     "output_type": "stream",
     "text": [
      " [>] elapsed time: 0.007 secs\n",
      "\n"
     ]
    },
    {
     "data": {
      "text/html": [
       "<table class=\"dataframe\">\n",
       "<caption>A matrix: 5 × 5 of type dbl</caption>\n",
       "<thead>\n",
       "\t<tr><th></th><th scope=col>[1]</th><th scope=col>[2]</th><th scope=col>[3]</th><th scope=col>[4]</th><th scope=col>[5]</th></tr>\n",
       "</thead>\n",
       "<tbody>\n",
       "\t<tr><th scope=row>[1]</th><td>0</td><td>1</td><td>2</td><td>3</td><td>5</td></tr>\n",
       "\t<tr><th scope=row>[2]</th><td>1</td><td>0</td><td>1</td><td>2</td><td>6</td></tr>\n",
       "\t<tr><th scope=row>[3]</th><td>2</td><td>1</td><td>0</td><td>1</td><td>7</td></tr>\n",
       "\t<tr><th scope=row>[4]</th><td>3</td><td>2</td><td>1</td><td>0</td><td>8</td></tr>\n",
       "\t<tr><th scope=row>[5]</th><td>5</td><td>6</td><td>7</td><td>8</td><td>0</td></tr>\n",
       "</tbody>\n",
       "</table>\n"
      ],
      "text/latex": [
       "A matrix: 5 × 5 of type dbl\n",
       "\\begin{tabular}{r|lllll}\n",
       "  & {[}1{]} & {[}2{]} & {[}3{]} & {[}4{]} & {[}5{]}\\\\\n",
       "\\hline\n",
       "\t{[}1{]} & 0 & 1 & 2 & 3 & 5\\\\\n",
       "\t{[}2{]} & 1 & 0 & 1 & 2 & 6\\\\\n",
       "\t{[}3{]} & 2 & 1 & 0 & 1 & 7\\\\\n",
       "\t{[}4{]} & 3 & 2 & 1 & 0 & 8\\\\\n",
       "\t{[}5{]} & 5 & 6 & 7 & 8 & 0\\\\\n",
       "\\end{tabular}\n"
      ],
      "text/markdown": [
       "\n",
       "A matrix: 5 × 5 of type dbl\n",
       "\n",
       "| <!--/--> | [1] | [2] | [3] | [4] | [5] |\n",
       "|---|---|---|---|---|---|\n",
       "| [1] | 0 | 1 | 2 | 3 | 5 |\n",
       "| [2] | 1 | 0 | 1 | 2 | 6 |\n",
       "| [3] | 2 | 1 | 0 | 1 | 7 |\n",
       "| [4] | 3 | 2 | 1 | 0 | 8 |\n",
       "| [5] | 5 | 6 | 7 | 8 | 0 |\n",
       "\n"
      ],
      "text/plain": [
       "    [1] [2] [3] [4] [5]\n",
       "[1] 0   1   2   3   5  \n",
       "[2] 1   0   1   2   6  \n",
       "[3] 2   1   0   1   7  \n",
       "[4] 3   2   1   0   8  \n",
       "[5] 5   6   7   8   0  "
      ]
     },
     "metadata": {},
     "output_type": "display_data"
    }
   ],
   "source": [
    "seqdist(famform.seq, method='LCP')"
   ]
  },
  {
   "cell_type": "markdown",
   "id": "65286b97-cb13-48d2-8174-437ebf0a4c38",
   "metadata": {},
   "source": [
    "We can also produce a normalized version of LCP that is insensitive to the length of the sequences"
   ]
  },
  {
   "cell_type": "code",
   "execution_count": 4,
   "id": "507de67b-d622-4bfd-a208-9f393a79cb8d",
   "metadata": {},
   "outputs": [
    {
     "name": "stdout",
     "output_type": "stream",
     "text": [
      "    Sequence   \n",
      "[1] S-U        \n",
      "[2] S-U-M      \n",
      "[3] S-U-M-MC   \n",
      "[4] S-U-M-MC-SC\n",
      "[5] U-M-MC     \n"
     ]
    },
    {
     "name": "stderr",
     "output_type": "stream",
     "text": [
      " [>] 5 sequences with 5 distinct states\n",
      "\n"
     ]
    },
    {
     "name": "stderr",
     "output_type": "stream",
     "text": [
      " [>] 5 distinct  sequences \n",
      "\n"
     ]
    },
    {
     "name": "stderr",
     "output_type": "stream",
     "text": [
      " [>] min/max sequence lengths: 2/5\n",
      "\n"
     ]
    },
    {
     "name": "stderr",
     "output_type": "stream",
     "text": [
      " [>] computing distances using the LCP gmean normalized metric\n",
      "\n"
     ]
    },
    {
     "name": "stderr",
     "output_type": "stream",
     "text": [
      " [>] elapsed time: 0.007 secs\n",
      "\n"
     ]
    },
    {
     "data": {
      "text/html": [
       "<table class=\"dataframe\">\n",
       "<caption>A matrix: 5 × 5 of type dbl</caption>\n",
       "<thead>\n",
       "\t<tr><th></th><th scope=col>[1]</th><th scope=col>[2]</th><th scope=col>[3]</th><th scope=col>[4]</th><th scope=col>[5]</th></tr>\n",
       "</thead>\n",
       "<tbody>\n",
       "\t<tr><th scope=row>[1]</th><td>0.0000000</td><td>0.1835034</td><td>0.2928932</td><td>0.3675445</td><td>1</td></tr>\n",
       "\t<tr><th scope=row>[2]</th><td>0.1835034</td><td>0.0000000</td><td>0.1339746</td><td>0.2254033</td><td>1</td></tr>\n",
       "\t<tr><th scope=row>[3]</th><td>0.2928932</td><td>0.1339746</td><td>0.0000000</td><td>0.1055728</td><td>1</td></tr>\n",
       "\t<tr><th scope=row>[4]</th><td>0.3675445</td><td>0.2254033</td><td>0.1055728</td><td>0.0000000</td><td>1</td></tr>\n",
       "\t<tr><th scope=row>[5]</th><td>1.0000000</td><td>1.0000000</td><td>1.0000000</td><td>1.0000000</td><td>0</td></tr>\n",
       "</tbody>\n",
       "</table>\n"
      ],
      "text/latex": [
       "A matrix: 5 × 5 of type dbl\n",
       "\\begin{tabular}{r|lllll}\n",
       "  & {[}1{]} & {[}2{]} & {[}3{]} & {[}4{]} & {[}5{]}\\\\\n",
       "\\hline\n",
       "\t{[}1{]} & 0.0000000 & 0.1835034 & 0.2928932 & 0.3675445 & 1\\\\\n",
       "\t{[}2{]} & 0.1835034 & 0.0000000 & 0.1339746 & 0.2254033 & 1\\\\\n",
       "\t{[}3{]} & 0.2928932 & 0.1339746 & 0.0000000 & 0.1055728 & 1\\\\\n",
       "\t{[}4{]} & 0.3675445 & 0.2254033 & 0.1055728 & 0.0000000 & 1\\\\\n",
       "\t{[}5{]} & 1.0000000 & 1.0000000 & 1.0000000 & 1.0000000 & 0\\\\\n",
       "\\end{tabular}\n"
      ],
      "text/markdown": [
       "\n",
       "A matrix: 5 × 5 of type dbl\n",
       "\n",
       "| <!--/--> | [1] | [2] | [3] | [4] | [5] |\n",
       "|---|---|---|---|---|---|\n",
       "| [1] | 0.0000000 | 0.1835034 | 0.2928932 | 0.3675445 | 1 |\n",
       "| [2] | 0.1835034 | 0.0000000 | 0.1339746 | 0.2254033 | 1 |\n",
       "| [3] | 0.2928932 | 0.1339746 | 0.0000000 | 0.1055728 | 1 |\n",
       "| [4] | 0.3675445 | 0.2254033 | 0.1055728 | 0.0000000 | 1 |\n",
       "| [5] | 1.0000000 | 1.0000000 | 1.0000000 | 1.0000000 | 0 |\n",
       "\n"
      ],
      "text/plain": [
       "    [1]       [2]       [3]       [4]       [5]\n",
       "[1] 0.0000000 0.1835034 0.2928932 0.3675445 1  \n",
       "[2] 0.1835034 0.0000000 0.1339746 0.2254033 1  \n",
       "[3] 0.2928932 0.1339746 0.0000000 0.1055728 1  \n",
       "[4] 0.3675445 0.2254033 0.1055728 0.0000000 1  \n",
       "[5] 1.0000000 1.0000000 1.0000000 1.0000000 0  "
      ]
     },
     "metadata": {},
     "output_type": "display_data"
    }
   ],
   "source": [
    "print(famform.seq)\n",
    "seqdist(famform.seq, method='LCP', norm=\"auto\")"
   ]
  },
  {
   "cell_type": "markdown",
   "id": "95f4827b-4667-42ae-802e-a336d343fec0",
   "metadata": {},
   "source": [
    "#### Longest common suffix (\"RLCP\")\n",
    "     \n",
    "[3] S-U-M-MC    \n",
    "[5] U-M-MC \n",
    "\n",
    "Longest Common Suffix = [U-M-MC]\n",
    "\n",
    "Similarity = 3  \n",
    "Dismilarity = 1"
   ]
  },
  {
   "cell_type": "code",
   "execution_count": 5,
   "id": "52c32037-ac11-4728-beb1-4ecc808cb854",
   "metadata": {},
   "outputs": [
    {
     "name": "stdout",
     "output_type": "stream",
     "text": [
      "    Sequence   \n",
      "[1] S-U        \n",
      "[2] S-U-M      \n",
      "[3] S-U-M-MC   \n",
      "[4] S-U-M-MC-SC\n",
      "[5] U-M-MC     \n"
     ]
    },
    {
     "name": "stderr",
     "output_type": "stream",
     "text": [
      " [>] 5 sequences with 5 distinct states\n",
      "\n"
     ]
    },
    {
     "name": "stderr",
     "output_type": "stream",
     "text": [
      " [>] 5 distinct  sequences \n",
      "\n"
     ]
    },
    {
     "name": "stderr",
     "output_type": "stream",
     "text": [
      " [>] min/max sequence lengths: 2/5\n",
      "\n"
     ]
    },
    {
     "name": "stderr",
     "output_type": "stream",
     "text": [
      " [>] computing distances using the RLCP metric\n",
      "\n"
     ]
    },
    {
     "name": "stderr",
     "output_type": "stream",
     "text": [
      " [>] elapsed time: 0.004 secs\n",
      "\n"
     ]
    },
    {
     "data": {
      "text/html": [
       "<table class=\"dataframe\">\n",
       "<caption>A matrix: 5 × 5 of type dbl</caption>\n",
       "<thead>\n",
       "\t<tr><th></th><th scope=col>[1]</th><th scope=col>[2]</th><th scope=col>[3]</th><th scope=col>[4]</th><th scope=col>[5]</th></tr>\n",
       "</thead>\n",
       "<tbody>\n",
       "\t<tr><th scope=row>[1]</th><td>0</td><td>5</td><td>6</td><td>7</td><td>5</td></tr>\n",
       "\t<tr><th scope=row>[2]</th><td>5</td><td>0</td><td>7</td><td>8</td><td>6</td></tr>\n",
       "\t<tr><th scope=row>[3]</th><td>6</td><td>7</td><td>0</td><td>9</td><td>1</td></tr>\n",
       "\t<tr><th scope=row>[4]</th><td>7</td><td>8</td><td>9</td><td>0</td><td>8</td></tr>\n",
       "\t<tr><th scope=row>[5]</th><td>5</td><td>6</td><td>1</td><td>8</td><td>0</td></tr>\n",
       "</tbody>\n",
       "</table>\n"
      ],
      "text/latex": [
       "A matrix: 5 × 5 of type dbl\n",
       "\\begin{tabular}{r|lllll}\n",
       "  & {[}1{]} & {[}2{]} & {[}3{]} & {[}4{]} & {[}5{]}\\\\\n",
       "\\hline\n",
       "\t{[}1{]} & 0 & 5 & 6 & 7 & 5\\\\\n",
       "\t{[}2{]} & 5 & 0 & 7 & 8 & 6\\\\\n",
       "\t{[}3{]} & 6 & 7 & 0 & 9 & 1\\\\\n",
       "\t{[}4{]} & 7 & 8 & 9 & 0 & 8\\\\\n",
       "\t{[}5{]} & 5 & 6 & 1 & 8 & 0\\\\\n",
       "\\end{tabular}\n"
      ],
      "text/markdown": [
       "\n",
       "A matrix: 5 × 5 of type dbl\n",
       "\n",
       "| <!--/--> | [1] | [2] | [3] | [4] | [5] |\n",
       "|---|---|---|---|---|---|\n",
       "| [1] | 0 | 5 | 6 | 7 | 5 |\n",
       "| [2] | 5 | 0 | 7 | 8 | 6 |\n",
       "| [3] | 6 | 7 | 0 | 9 | 1 |\n",
       "| [4] | 7 | 8 | 9 | 0 | 8 |\n",
       "| [5] | 5 | 6 | 1 | 8 | 0 |\n",
       "\n"
      ],
      "text/plain": [
       "    [1] [2] [3] [4] [5]\n",
       "[1] 0   5   6   7   5  \n",
       "[2] 5   0   7   8   6  \n",
       "[3] 6   7   0   9   1  \n",
       "[4] 7   8   9   0   8  \n",
       "[5] 5   6   1   8   0  "
      ]
     },
     "metadata": {},
     "output_type": "display_data"
    }
   ],
   "source": [
    "print(famform.seq)\n",
    "seqdist(famform.seq, method='RLCP')"
   ]
  },
  {
   "cell_type": "markdown",
   "id": "aa45fbd9-e0f1-4cfd-9505-7454ee2bd28b",
   "metadata": {},
   "source": [
    "#### Longest Common Subsequence (LCS) distances\n",
    "\n",
    "Let's take a look at this example:\n",
    "\n",
    "[4] S-U-M-MC-SC  \n",
    "[5] U-M-MC \n",
    "\n",
    "Longest Common Subsequence = [U-M-MC]\n",
    "\n",
    "Similarity = 3  \n",
    "Dismilarity = 2"
   ]
  },
  {
   "cell_type": "code",
   "execution_count": 6,
   "id": "e731198d-37f7-42f6-93c3-c1a5f268c2e7",
   "metadata": {},
   "outputs": [
    {
     "name": "stdout",
     "output_type": "stream",
     "text": [
      "    Sequence   \n",
      "[1] S-U        \n",
      "[2] S-U-M      \n",
      "[3] S-U-M-MC   \n",
      "[4] S-U-M-MC-SC\n",
      "[5] U-M-MC     \n"
     ]
    },
    {
     "name": "stderr",
     "output_type": "stream",
     "text": [
      " [>] 5 sequences with 5 distinct states\n",
      "\n"
     ]
    },
    {
     "name": "stderr",
     "output_type": "stream",
     "text": [
      " [>] creating a 'sm' with a substitution cost of 2\n",
      "\n"
     ]
    },
    {
     "name": "stderr",
     "output_type": "stream",
     "text": [
      " [>] creating 5x5 substitution-cost matrix using 2 as constant value\n",
      "\n"
     ]
    },
    {
     "name": "stderr",
     "output_type": "stream",
     "text": [
      " [>] 5 distinct  sequences \n",
      "\n"
     ]
    },
    {
     "name": "stderr",
     "output_type": "stream",
     "text": [
      " [>] min/max sequence lengths: 2/5\n",
      "\n"
     ]
    },
    {
     "name": "stderr",
     "output_type": "stream",
     "text": [
      " [>] computing distances using the LCS metric\n",
      "\n"
     ]
    },
    {
     "name": "stderr",
     "output_type": "stream",
     "text": [
      " [>] elapsed time: 0.006 secs\n",
      "\n"
     ]
    },
    {
     "data": {
      "text/html": [
       "<table class=\"dataframe\">\n",
       "<caption>A matrix: 5 × 5 of type dbl</caption>\n",
       "<thead>\n",
       "\t<tr><th></th><th scope=col>[1]</th><th scope=col>[2]</th><th scope=col>[3]</th><th scope=col>[4]</th><th scope=col>[5]</th></tr>\n",
       "</thead>\n",
       "<tbody>\n",
       "\t<tr><th scope=row>[1]</th><td>0</td><td>1</td><td>2</td><td>3</td><td>3</td></tr>\n",
       "\t<tr><th scope=row>[2]</th><td>1</td><td>0</td><td>1</td><td>2</td><td>2</td></tr>\n",
       "\t<tr><th scope=row>[3]</th><td>2</td><td>1</td><td>0</td><td>1</td><td>1</td></tr>\n",
       "\t<tr><th scope=row>[4]</th><td>3</td><td>2</td><td>1</td><td>0</td><td>2</td></tr>\n",
       "\t<tr><th scope=row>[5]</th><td>3</td><td>2</td><td>1</td><td>2</td><td>0</td></tr>\n",
       "</tbody>\n",
       "</table>\n"
      ],
      "text/latex": [
       "A matrix: 5 × 5 of type dbl\n",
       "\\begin{tabular}{r|lllll}\n",
       "  & {[}1{]} & {[}2{]} & {[}3{]} & {[}4{]} & {[}5{]}\\\\\n",
       "\\hline\n",
       "\t{[}1{]} & 0 & 1 & 2 & 3 & 3\\\\\n",
       "\t{[}2{]} & 1 & 0 & 1 & 2 & 2\\\\\n",
       "\t{[}3{]} & 2 & 1 & 0 & 1 & 1\\\\\n",
       "\t{[}4{]} & 3 & 2 & 1 & 0 & 2\\\\\n",
       "\t{[}5{]} & 3 & 2 & 1 & 2 & 0\\\\\n",
       "\\end{tabular}\n"
      ],
      "text/markdown": [
       "\n",
       "A matrix: 5 × 5 of type dbl\n",
       "\n",
       "| <!--/--> | [1] | [2] | [3] | [4] | [5] |\n",
       "|---|---|---|---|---|---|\n",
       "| [1] | 0 | 1 | 2 | 3 | 3 |\n",
       "| [2] | 1 | 0 | 1 | 2 | 2 |\n",
       "| [3] | 2 | 1 | 0 | 1 | 1 |\n",
       "| [4] | 3 | 2 | 1 | 0 | 2 |\n",
       "| [5] | 3 | 2 | 1 | 2 | 0 |\n",
       "\n"
      ],
      "text/plain": [
       "    [1] [2] [3] [4] [5]\n",
       "[1] 0   1   2   3   3  \n",
       "[2] 1   0   1   2   2  \n",
       "[3] 2   1   0   1   1  \n",
       "[4] 3   2   1   0   2  \n",
       "[5] 3   2   1   2   0  "
      ]
     },
     "metadata": {},
     "output_type": "display_data"
    }
   ],
   "source": [
    "print(famform.seq)\n",
    "seqdist(famform.seq, method='LCS')"
   ]
  },
  {
   "cell_type": "code",
   "execution_count": 7,
   "id": "763b36ee-bc83-4bf7-9640-3da9e2294392",
   "metadata": {},
   "outputs": [
    {
     "name": "stderr",
     "output_type": "stream",
     "text": [
      " [>] 5 sequences with 5 distinct states\n",
      "\n"
     ]
    },
    {
     "name": "stderr",
     "output_type": "stream",
     "text": [
      " [>] creating a 'sm' with a substitution cost of 2\n",
      "\n"
     ]
    },
    {
     "name": "stderr",
     "output_type": "stream",
     "text": [
      " [>] creating 5x5 substitution-cost matrix using 2 as constant value\n",
      "\n"
     ]
    },
    {
     "name": "stderr",
     "output_type": "stream",
     "text": [
      " [>] 5 distinct  sequences \n",
      "\n"
     ]
    },
    {
     "name": "stderr",
     "output_type": "stream",
     "text": [
      " [>] min/max sequence lengths: 2/5\n",
      "\n"
     ]
    },
    {
     "name": "stderr",
     "output_type": "stream",
     "text": [
      " [>] computing distances using the LCS gmean normalized metric\n",
      "\n"
     ]
    },
    {
     "name": "stderr",
     "output_type": "stream",
     "text": [
      " [>] elapsed time: 0.005 secs\n",
      "\n"
     ]
    },
    {
     "data": {
      "text/html": [
       "<table class=\"dataframe\">\n",
       "<caption>A matrix: 5 × 5 of type dbl</caption>\n",
       "<thead>\n",
       "\t<tr><th></th><th scope=col>[1]</th><th scope=col>[2]</th><th scope=col>[3]</th><th scope=col>[4]</th><th scope=col>[5]</th></tr>\n",
       "</thead>\n",
       "<tbody>\n",
       "\t<tr><th scope=row>[1]</th><td>0.0000000</td><td>0.1835034</td><td>0.2928932</td><td>0.3675445</td><td>0.5917517</td></tr>\n",
       "\t<tr><th scope=row>[2]</th><td>0.1835034</td><td>0.0000000</td><td>0.1339746</td><td>0.2254033</td><td>0.3333333</td></tr>\n",
       "\t<tr><th scope=row>[3]</th><td>0.2928932</td><td>0.1339746</td><td>0.0000000</td><td>0.1055728</td><td>0.1339746</td></tr>\n",
       "\t<tr><th scope=row>[4]</th><td>0.3675445</td><td>0.2254033</td><td>0.1055728</td><td>0.0000000</td><td>0.2254033</td></tr>\n",
       "\t<tr><th scope=row>[5]</th><td>0.5917517</td><td>0.3333333</td><td>0.1339746</td><td>0.2254033</td><td>0.0000000</td></tr>\n",
       "</tbody>\n",
       "</table>\n"
      ],
      "text/latex": [
       "A matrix: 5 × 5 of type dbl\n",
       "\\begin{tabular}{r|lllll}\n",
       "  & {[}1{]} & {[}2{]} & {[}3{]} & {[}4{]} & {[}5{]}\\\\\n",
       "\\hline\n",
       "\t{[}1{]} & 0.0000000 & 0.1835034 & 0.2928932 & 0.3675445 & 0.5917517\\\\\n",
       "\t{[}2{]} & 0.1835034 & 0.0000000 & 0.1339746 & 0.2254033 & 0.3333333\\\\\n",
       "\t{[}3{]} & 0.2928932 & 0.1339746 & 0.0000000 & 0.1055728 & 0.1339746\\\\\n",
       "\t{[}4{]} & 0.3675445 & 0.2254033 & 0.1055728 & 0.0000000 & 0.2254033\\\\\n",
       "\t{[}5{]} & 0.5917517 & 0.3333333 & 0.1339746 & 0.2254033 & 0.0000000\\\\\n",
       "\\end{tabular}\n"
      ],
      "text/markdown": [
       "\n",
       "A matrix: 5 × 5 of type dbl\n",
       "\n",
       "| <!--/--> | [1] | [2] | [3] | [4] | [5] |\n",
       "|---|---|---|---|---|---|\n",
       "| [1] | 0.0000000 | 0.1835034 | 0.2928932 | 0.3675445 | 0.5917517 |\n",
       "| [2] | 0.1835034 | 0.0000000 | 0.1339746 | 0.2254033 | 0.3333333 |\n",
       "| [3] | 0.2928932 | 0.1339746 | 0.0000000 | 0.1055728 | 0.1339746 |\n",
       "| [4] | 0.3675445 | 0.2254033 | 0.1055728 | 0.0000000 | 0.2254033 |\n",
       "| [5] | 0.5917517 | 0.3333333 | 0.1339746 | 0.2254033 | 0.0000000 |\n",
       "\n"
      ],
      "text/plain": [
       "    [1]       [2]       [3]       [4]       [5]      \n",
       "[1] 0.0000000 0.1835034 0.2928932 0.3675445 0.5917517\n",
       "[2] 0.1835034 0.0000000 0.1339746 0.2254033 0.3333333\n",
       "[3] 0.2928932 0.1339746 0.0000000 0.1055728 0.1339746\n",
       "[4] 0.3675445 0.2254033 0.1055728 0.0000000 0.2254033\n",
       "[5] 0.5917517 0.3333333 0.1339746 0.2254033 0.0000000"
      ]
     },
     "metadata": {},
     "output_type": "display_data"
    }
   ],
   "source": [
    "# Normalized version\n",
    "\n",
    "seqdist(famform.seq, method='LCS', norm = 'auto')"
   ]
  },
  {
   "cell_type": "markdown",
   "id": "2f2a296e-a818-42d0-961b-f59d5dcaf6dc",
   "metadata": {},
   "source": [
    "#### Dealing with missing values"
   ]
  },
  {
   "cell_type": "code",
   "execution_count": 8,
   "id": "b4e9b12b-8942-47ec-8da2-f2bf8985bd74",
   "metadata": {},
   "outputs": [
    {
     "name": "stderr",
     "output_type": "stream",
     "text": [
      " [>] found missing values ('NA') in sequence data\n",
      "\n"
     ]
    },
    {
     "name": "stderr",
     "output_type": "stream",
     "text": [
      " [>] preparing 3 sequences\n",
      "\n"
     ]
    },
    {
     "name": "stderr",
     "output_type": "stream",
     "text": [
      " [>] coding void elements with '%' and missing values with '*'\n",
      "\n"
     ]
    },
    {
     "name": "stderr",
     "output_type": "stream",
     "text": [
      " [>] 4 distinct states appear in the data: \n",
      "\n"
     ]
    },
    {
     "name": "stderr",
     "output_type": "stream",
     "text": [
      "     1 = a\n",
      "\n"
     ]
    },
    {
     "name": "stderr",
     "output_type": "stream",
     "text": [
      "     2 = b\n",
      "\n"
     ]
    },
    {
     "name": "stderr",
     "output_type": "stream",
     "text": [
      "     3 = c\n",
      "\n"
     ]
    },
    {
     "name": "stderr",
     "output_type": "stream",
     "text": [
      "     4 = d\n",
      "\n"
     ]
    },
    {
     "name": "stderr",
     "output_type": "stream",
     "text": [
      " [>] state coding:\n",
      "\n"
     ]
    },
    {
     "name": "stderr",
     "output_type": "stream",
     "text": [
      "       [alphabet]  [label]  [long label] \n",
      "\n"
     ]
    },
    {
     "name": "stderr",
     "output_type": "stream",
     "text": [
      "     1  a           a        a\n",
      "\n"
     ]
    },
    {
     "name": "stderr",
     "output_type": "stream",
     "text": [
      "     2  b           b        b\n",
      "\n"
     ]
    },
    {
     "name": "stderr",
     "output_type": "stream",
     "text": [
      "     3  c           c        c\n",
      "\n"
     ]
    },
    {
     "name": "stderr",
     "output_type": "stream",
     "text": [
      "     4  d           d        d\n",
      "\n"
     ]
    },
    {
     "name": "stderr",
     "output_type": "stream",
     "text": [
      " [>] 3 sequences in the data set\n",
      "\n"
     ]
    },
    {
     "name": "stderr",
     "output_type": "stream",
     "text": [
      " [>] min/max sequence length: 4/6\n",
      "\n"
     ]
    },
    {
     "name": "stdout",
     "output_type": "stream",
     "text": [
      "   Sequence   \n",
      "s1 a-b-c-d    \n",
      "s2 a-b-*-c-d  \n",
      "s3 a-b-*-c-d-a\n"
     ]
    }
   ],
   "source": [
    "s1 <- c(\"a\",\"b\",\"c\",\"d\",NA,NA)\n",
    "s2 <- c(\"a\",\"b\",NA,\"c\",\"d\",NA)\n",
    "s3 <- c(\"a\",\"b\",NA,\"c\",\"d\",\"a\")\n",
    "\n",
    "df <- data.frame(rbind(s1,s2,s3))\n",
    "colnames(df) <- c(1990:1995)\n",
    "df.seq <- seqdef(df)\n",
    "print(df.seq)"
   ]
  },
  {
   "cell_type": "markdown",
   "id": "843cecd9-461b-45ed-8885-75b61f48e562",
   "metadata": {},
   "source": [
    "To compute LCS distances between sequences containing gaps, one can use the with.miss=TRUE option. In that case, missing states are considered as an additional valid state.\n",
    "\n",
    "Let's look at s1 and s2\n",
    "\n",
    "LCS = a-b or c-d \n",
    "\n",
    "Similarity = 2  \n",
    "Dismilarity = 1"
   ]
  },
  {
   "cell_type": "code",
   "execution_count": 9,
   "id": "c5d07041-f940-4164-bb8b-7b3b261db2db",
   "metadata": {},
   "outputs": [
    {
     "name": "stderr",
     "output_type": "stream",
     "text": [
      " [>] including missing values as an additional state\n",
      "\n"
     ]
    },
    {
     "name": "stderr",
     "output_type": "stream",
     "text": [
      " [>] 3 sequences with 5 distinct states\n",
      "\n"
     ]
    },
    {
     "name": "stderr",
     "output_type": "stream",
     "text": [
      " [>] creating a 'sm' with a substitution cost of 2\n",
      "\n"
     ]
    },
    {
     "name": "stderr",
     "output_type": "stream",
     "text": [
      " [>] creating 5x5 substitution-cost matrix using 2 as constant value\n",
      "\n"
     ]
    },
    {
     "name": "stderr",
     "output_type": "stream",
     "text": [
      " [>] 3 distinct  sequences \n",
      "\n"
     ]
    },
    {
     "name": "stderr",
     "output_type": "stream",
     "text": [
      " [>] min/max sequence lengths: 4/6\n",
      "\n"
     ]
    },
    {
     "name": "stderr",
     "output_type": "stream",
     "text": [
      " [>] computing distances using the LCS metric\n",
      "\n"
     ]
    },
    {
     "name": "stderr",
     "output_type": "stream",
     "text": [
      " [>] elapsed time: 0.015 secs\n",
      "\n"
     ]
    },
    {
     "data": {
      "text/html": [
       "<table class=\"dataframe\">\n",
       "<caption>A matrix: 3 × 3 of type dbl</caption>\n",
       "<thead>\n",
       "\t<tr><th></th><th scope=col>s1</th><th scope=col>s2</th><th scope=col>s3</th></tr>\n",
       "</thead>\n",
       "<tbody>\n",
       "\t<tr><th scope=row>s1</th><td>0</td><td>1</td><td>2</td></tr>\n",
       "\t<tr><th scope=row>s2</th><td>1</td><td>0</td><td>1</td></tr>\n",
       "\t<tr><th scope=row>s3</th><td>2</td><td>1</td><td>0</td></tr>\n",
       "</tbody>\n",
       "</table>\n"
      ],
      "text/latex": [
       "A matrix: 3 × 3 of type dbl\n",
       "\\begin{tabular}{r|lll}\n",
       "  & s1 & s2 & s3\\\\\n",
       "\\hline\n",
       "\ts1 & 0 & 1 & 2\\\\\n",
       "\ts2 & 1 & 0 & 1\\\\\n",
       "\ts3 & 2 & 1 & 0\\\\\n",
       "\\end{tabular}\n"
      ],
      "text/markdown": [
       "\n",
       "A matrix: 3 × 3 of type dbl\n",
       "\n",
       "| <!--/--> | s1 | s2 | s3 |\n",
       "|---|---|---|---|\n",
       "| s1 | 0 | 1 | 2 |\n",
       "| s2 | 1 | 0 | 1 |\n",
       "| s3 | 2 | 1 | 0 |\n",
       "\n"
      ],
      "text/plain": [
       "   s1 s2 s3\n",
       "s1 0  1  2 \n",
       "s2 1  0  1 \n",
       "s3 2  1  0 "
      ]
     },
     "metadata": {},
     "output_type": "display_data"
    }
   ],
   "source": [
    "seqdist(df.seq, method='LCS', with.miss=TRUE)"
   ]
  },
  {
   "cell_type": "code",
   "execution_count": 10,
   "id": "1877b7ea-92de-40ed-b6e3-53d1fa0e5a83",
   "metadata": {},
   "outputs": [],
   "source": [
    "# ?seqdist"
   ]
  },
  {
   "cell_type": "markdown",
   "id": "dd06816e-cd67-4a1c-837d-19b66f72a079",
   "metadata": {},
   "source": [
    "### Edit distance\n",
    "\n",
    "#### Optimal matching (OM) distances\n",
    "\n",
    "Optimal matching generates edit distances that are the minimal cost, in terms of `insertions`, `deletions` and `substitutions`, for transforming one sequence into another.\n",
    "\n",
    "How do we transform the following sequence 1 to sequence 2\n",
    "\n",
    "s1 = {N,A,T,I,O,N}  \n",
    "s2 = {F,A,S,H,I,O,N}\n",
    "\n",
    "Strategy 1:\n",
    "- Substitute N with F (NATION -> FATION)\n",
    "- Insert S (FATION -> FASTION)\n",
    "- Substitute T with H (FASTION -> FASHION)\n",
    "\n",
    "Strategy 2:\n",
    "- Delete N (NATION -> ATION)\n",
    "- Insert F (ATION -> FATION)\n",
    "- Delete T (FATION -> FAION)\n",
    "- Insert S (FAION -> FASION)\n",
    "- Insert H (FASION -> FASHION)\n",
    "\n",
    "Assuming there's a cost for each action (i.e., substitution, insertion/deletion). What would be the optimal strategy that minizes the total cost? --> Optimal Matching algorithm\n",
    "\n",
    "**The insertion/deletion cost**\n",
    "- A constant value specified by user (default = 1)\n",
    "\n",
    "**The substitution-cost matrix**\n",
    "- A constant value (default)\n",
    "- Based on transition rates between different states"
   ]
  },
  {
   "cell_type": "markdown",
   "id": "3d6ae2af-5d17-414a-be5b-ccfa418cc700",
   "metadata": {},
   "source": [
    "Let's have a look at our famform data. We generate a **substitution cost matrix with constant value of 2**"
   ]
  },
  {
   "cell_type": "code",
   "execution_count": 11,
   "id": "64e20abe-8c41-4a76-b0ed-245360374d6d",
   "metadata": {},
   "outputs": [
    {
     "name": "stdout",
     "output_type": "stream",
     "text": [
      "    Sequence   \n",
      "[1] S-U        \n",
      "[2] S-U-M      \n",
      "[3] S-U-M-MC   \n",
      "[4] S-U-M-MC-SC\n",
      "[5] U-M-MC     \n"
     ]
    },
    {
     "name": "stderr",
     "output_type": "stream",
     "text": [
      " [>] creating 5x5 substitution-cost matrix using 2 as constant value\n",
      "\n"
     ]
    },
    {
     "data": {
      "text/html": [
       "<dl>\n",
       "\t<dt>$indel</dt>\n",
       "\t\t<dd>1</dd>\n",
       "\t<dt>$sm</dt>\n",
       "\t\t<dd><table class=\"dataframe\">\n",
       "<caption>A matrix: 5 × 5 of type dbl</caption>\n",
       "<thead>\n",
       "\t<tr><th></th><th scope=col>M</th><th scope=col>MC</th><th scope=col>S</th><th scope=col>SC</th><th scope=col>U</th></tr>\n",
       "</thead>\n",
       "<tbody>\n",
       "\t<tr><th scope=row>M</th><td>0</td><td>2</td><td>2</td><td>2</td><td>2</td></tr>\n",
       "\t<tr><th scope=row>MC</th><td>2</td><td>0</td><td>2</td><td>2</td><td>2</td></tr>\n",
       "\t<tr><th scope=row>S</th><td>2</td><td>2</td><td>0</td><td>2</td><td>2</td></tr>\n",
       "\t<tr><th scope=row>SC</th><td>2</td><td>2</td><td>2</td><td>0</td><td>2</td></tr>\n",
       "\t<tr><th scope=row>U</th><td>2</td><td>2</td><td>2</td><td>2</td><td>0</td></tr>\n",
       "</tbody>\n",
       "</table>\n",
       "</dd>\n",
       "</dl>\n"
      ],
      "text/latex": [
       "\\begin{description}\n",
       "\\item[\\$indel] 1\n",
       "\\item[\\$sm] A matrix: 5 × 5 of type dbl\n",
       "\\begin{tabular}{r|lllll}\n",
       "  & M & MC & S & SC & U\\\\\n",
       "\\hline\n",
       "\tM & 0 & 2 & 2 & 2 & 2\\\\\n",
       "\tMC & 2 & 0 & 2 & 2 & 2\\\\\n",
       "\tS & 2 & 2 & 0 & 2 & 2\\\\\n",
       "\tSC & 2 & 2 & 2 & 0 & 2\\\\\n",
       "\tU & 2 & 2 & 2 & 2 & 0\\\\\n",
       "\\end{tabular}\n",
       "\n",
       "\\end{description}\n"
      ],
      "text/markdown": [
       "$indel\n",
       ":   1\n",
       "$sm\n",
       ":   \n",
       "A matrix: 5 × 5 of type dbl\n",
       "\n",
       "| <!--/--> | M | MC | S | SC | U |\n",
       "|---|---|---|---|---|---|\n",
       "| M | 0 | 2 | 2 | 2 | 2 |\n",
       "| MC | 2 | 0 | 2 | 2 | 2 |\n",
       "| S | 2 | 2 | 0 | 2 | 2 |\n",
       "| SC | 2 | 2 | 2 | 0 | 2 |\n",
       "| U | 2 | 2 | 2 | 2 | 0 |\n",
       "\n",
       "\n",
       "\n",
       "\n"
      ],
      "text/plain": [
       "$indel\n",
       "[1] 1\n",
       "\n",
       "$sm\n",
       "   M MC S SC U\n",
       "M  0  2 2  2 2\n",
       "MC 2  0 2  2 2\n",
       "S  2  2 0  2 2\n",
       "SC 2  2 2  0 2\n",
       "U  2  2 2  2 0\n"
      ]
     },
     "metadata": {},
     "output_type": "display_data"
    }
   ],
   "source": [
    "print(famform.seq)\n",
    "sub_cost <- seqcost(famform.seq, method = \"CONSTANT\", cval = 2)\n",
    "sub_cost"
   ]
  },
  {
   "cell_type": "markdown",
   "id": "0f056d2d-8817-418a-a68b-10b610af0bc0",
   "metadata": {},
   "source": [
    "We compute the distances using the matrix and the **default indel cost of 1**"
   ]
  },
  {
   "cell_type": "code",
   "execution_count": 12,
   "id": "63a52150-2b89-43f7-b6ae-c17e98ffe513",
   "metadata": {},
   "outputs": [
    {
     "name": "stderr",
     "output_type": "stream",
     "text": [
      " [>] 5 sequences with 5 distinct states\n",
      "\n"
     ]
    },
    {
     "name": "stderr",
     "output_type": "stream",
     "text": [
      " [>] checking 'sm' (size and triangle inequality)\n",
      "\n"
     ]
    },
    {
     "name": "stderr",
     "output_type": "stream",
     "text": [
      " [>] 5 distinct  sequences \n",
      "\n"
     ]
    },
    {
     "name": "stderr",
     "output_type": "stream",
     "text": [
      " [>] min/max sequence lengths: 2/5\n",
      "\n"
     ]
    },
    {
     "name": "stderr",
     "output_type": "stream",
     "text": [
      " [>] computing distances using the OM metric\n",
      "\n"
     ]
    },
    {
     "name": "stderr",
     "output_type": "stream",
     "text": [
      " [>] elapsed time: 0.004 secs\n",
      "\n"
     ]
    },
    {
     "data": {
      "text/html": [
       "<table class=\"dataframe\">\n",
       "<caption>A matrix: 5 × 5 of type dbl</caption>\n",
       "<thead>\n",
       "\t<tr><th></th><th scope=col>[1]</th><th scope=col>[2]</th><th scope=col>[3]</th><th scope=col>[4]</th><th scope=col>[5]</th></tr>\n",
       "</thead>\n",
       "<tbody>\n",
       "\t<tr><th scope=row>[1]</th><td>0</td><td>1</td><td>2</td><td>3</td><td>3</td></tr>\n",
       "\t<tr><th scope=row>[2]</th><td>1</td><td>0</td><td>1</td><td>2</td><td>2</td></tr>\n",
       "\t<tr><th scope=row>[3]</th><td>2</td><td>1</td><td>0</td><td>1</td><td>1</td></tr>\n",
       "\t<tr><th scope=row>[4]</th><td>3</td><td>2</td><td>1</td><td>0</td><td>2</td></tr>\n",
       "\t<tr><th scope=row>[5]</th><td>3</td><td>2</td><td>1</td><td>2</td><td>0</td></tr>\n",
       "</tbody>\n",
       "</table>\n"
      ],
      "text/latex": [
       "A matrix: 5 × 5 of type dbl\n",
       "\\begin{tabular}{r|lllll}\n",
       "  & {[}1{]} & {[}2{]} & {[}3{]} & {[}4{]} & {[}5{]}\\\\\n",
       "\\hline\n",
       "\t{[}1{]} & 0 & 1 & 2 & 3 & 3\\\\\n",
       "\t{[}2{]} & 1 & 0 & 1 & 2 & 2\\\\\n",
       "\t{[}3{]} & 2 & 1 & 0 & 1 & 1\\\\\n",
       "\t{[}4{]} & 3 & 2 & 1 & 0 & 2\\\\\n",
       "\t{[}5{]} & 3 & 2 & 1 & 2 & 0\\\\\n",
       "\\end{tabular}\n"
      ],
      "text/markdown": [
       "\n",
       "A matrix: 5 × 5 of type dbl\n",
       "\n",
       "| <!--/--> | [1] | [2] | [3] | [4] | [5] |\n",
       "|---|---|---|---|---|---|\n",
       "| [1] | 0 | 1 | 2 | 3 | 3 |\n",
       "| [2] | 1 | 0 | 1 | 2 | 2 |\n",
       "| [3] | 2 | 1 | 0 | 1 | 1 |\n",
       "| [4] | 3 | 2 | 1 | 0 | 2 |\n",
       "| [5] | 3 | 2 | 1 | 2 | 0 |\n",
       "\n"
      ],
      "text/plain": [
       "    [1] [2] [3] [4] [5]\n",
       "[1] 0   1   2   3   3  \n",
       "[2] 1   0   1   2   2  \n",
       "[3] 2   1   0   1   1  \n",
       "[4] 3   2   1   0   2  \n",
       "[5] 3   2   1   2   0  "
      ]
     },
     "metadata": {},
     "output_type": "display_data"
    }
   ],
   "source": [
    "famform.seq_OM <- seqdist(famform.seq, method = \"OM\", sm = sub_cost$sm)\n",
    "famform.seq_OM"
   ]
  },
  {
   "cell_type": "markdown",
   "id": "d67bec12-0af9-46c4-b0a3-1354a3b39091",
   "metadata": {},
   "source": [
    "Minimal cost to transform `[1] S-U` to `[5] U-M-MC`\n",
    "\n",
    "- Delete S (cost 1)\n",
    "- Insert M (cost 1)\n",
    "- Insert MC (cost 1)\n",
    "\n",
    "Total cost = 3"
   ]
  },
  {
   "cell_type": "code",
   "execution_count": 13,
   "id": "9dc463d1-4635-45c9-92f8-e28988b4b83e",
   "metadata": {},
   "outputs": [
    {
     "data": {
      "text/html": [
       "3"
      ],
      "text/latex": [
       "3"
      ],
      "text/markdown": [
       "3"
      ],
      "text/plain": [
       "[1] 3"
      ]
     },
     "metadata": {},
     "output_type": "display_data"
    }
   ],
   "source": [
    "famform.seq_OM[1,5]"
   ]
  },
  {
   "cell_type": "markdown",
   "id": "2ef0fba6-4706-4691-9b62-34bafbd89e9b",
   "metadata": {},
   "source": [
    "Substitution cost matrix based on transition rates between different states using `method = \"TRATE\"`"
   ]
  },
  {
   "cell_type": "code",
   "execution_count": 14,
   "id": "edba760b-ea24-4e18-bef7-ac90f534f1f1",
   "metadata": {},
   "outputs": [
    {
     "name": "stdout",
     "output_type": "stream",
     "text": [
      "    Sequence   \n",
      "[1] S-U        \n",
      "[2] S-U-M      \n",
      "[3] S-U-M-MC   \n",
      "[4] S-U-M-MC-SC\n",
      "[5] U-M-MC     \n"
     ]
    },
    {
     "name": "stderr",
     "output_type": "stream",
     "text": [
      " [>] creating substitution-cost matrix using transition rates ...\n",
      "\n"
     ]
    },
    {
     "name": "stderr",
     "output_type": "stream",
     "text": [
      " [>] computing transition probabilities for states M/MC/S/SC/U ...\n",
      "\n"
     ]
    },
    {
     "data": {
      "text/html": [
       "<dl>\n",
       "\t<dt>$indel</dt>\n",
       "\t\t<dd>1</dd>\n",
       "\t<dt>$sm</dt>\n",
       "\t\t<dd><table class=\"dataframe\">\n",
       "<caption>A matrix: 5 × 5 of type dbl</caption>\n",
       "<thead>\n",
       "\t<tr><th></th><th scope=col>M</th><th scope=col>MC</th><th scope=col>S</th><th scope=col>SC</th><th scope=col>U</th></tr>\n",
       "</thead>\n",
       "<tbody>\n",
       "\t<tr><th scope=row>M</th><td>0</td><td>1</td><td>2</td><td>2</td><td>1</td></tr>\n",
       "\t<tr><th scope=row>MC</th><td>1</td><td>0</td><td>2</td><td>1</td><td>2</td></tr>\n",
       "\t<tr><th scope=row>S</th><td>2</td><td>2</td><td>0</td><td>2</td><td>1</td></tr>\n",
       "\t<tr><th scope=row>SC</th><td>2</td><td>1</td><td>2</td><td>0</td><td>2</td></tr>\n",
       "\t<tr><th scope=row>U</th><td>1</td><td>2</td><td>1</td><td>2</td><td>0</td></tr>\n",
       "</tbody>\n",
       "</table>\n",
       "</dd>\n",
       "</dl>\n"
      ],
      "text/latex": [
       "\\begin{description}\n",
       "\\item[\\$indel] 1\n",
       "\\item[\\$sm] A matrix: 5 × 5 of type dbl\n",
       "\\begin{tabular}{r|lllll}\n",
       "  & M & MC & S & SC & U\\\\\n",
       "\\hline\n",
       "\tM & 0 & 1 & 2 & 2 & 1\\\\\n",
       "\tMC & 1 & 0 & 2 & 1 & 2\\\\\n",
       "\tS & 2 & 2 & 0 & 2 & 1\\\\\n",
       "\tSC & 2 & 1 & 2 & 0 & 2\\\\\n",
       "\tU & 1 & 2 & 1 & 2 & 0\\\\\n",
       "\\end{tabular}\n",
       "\n",
       "\\end{description}\n"
      ],
      "text/markdown": [
       "$indel\n",
       ":   1\n",
       "$sm\n",
       ":   \n",
       "A matrix: 5 × 5 of type dbl\n",
       "\n",
       "| <!--/--> | M | MC | S | SC | U |\n",
       "|---|---|---|---|---|---|\n",
       "| M | 0 | 1 | 2 | 2 | 1 |\n",
       "| MC | 1 | 0 | 2 | 1 | 2 |\n",
       "| S | 2 | 2 | 0 | 2 | 1 |\n",
       "| SC | 2 | 1 | 2 | 0 | 2 |\n",
       "| U | 1 | 2 | 1 | 2 | 0 |\n",
       "\n",
       "\n",
       "\n",
       "\n"
      ],
      "text/plain": [
       "$indel\n",
       "[1] 1\n",
       "\n",
       "$sm\n",
       "   M MC S SC U\n",
       "M  0  1 2  2 1\n",
       "MC 1  0 2  1 2\n",
       "S  2  2 0  2 1\n",
       "SC 2  1 2  0 2\n",
       "U  1  2 1  2 0\n"
      ]
     },
     "metadata": {},
     "output_type": "display_data"
    },
    {
     "name": "stderr",
     "output_type": "stream",
     "text": [
      " [>] 5 sequences with 5 distinct states\n",
      "\n"
     ]
    },
    {
     "name": "stderr",
     "output_type": "stream",
     "text": [
      " [>] checking 'sm' (size and triangle inequality)\n",
      "\n"
     ]
    },
    {
     "name": "stderr",
     "output_type": "stream",
     "text": [
      " [>] 5 distinct  sequences \n",
      "\n"
     ]
    },
    {
     "name": "stderr",
     "output_type": "stream",
     "text": [
      " [>] min/max sequence lengths: 2/5\n",
      "\n"
     ]
    },
    {
     "name": "stderr",
     "output_type": "stream",
     "text": [
      " [>] computing distances using the OM metric\n",
      "\n"
     ]
    },
    {
     "name": "stderr",
     "output_type": "stream",
     "text": [
      " [>] elapsed time: 0.007 secs\n",
      "\n"
     ]
    },
    {
     "data": {
      "text/html": [
       "<table class=\"dataframe\">\n",
       "<caption>A matrix: 5 × 5 of type dbl</caption>\n",
       "<thead>\n",
       "\t<tr><th></th><th scope=col>[1]</th><th scope=col>[2]</th><th scope=col>[3]</th><th scope=col>[4]</th><th scope=col>[5]</th></tr>\n",
       "</thead>\n",
       "<tbody>\n",
       "\t<tr><th scope=row>[1]</th><td>0</td><td>1</td><td>2</td><td>3</td><td>3</td></tr>\n",
       "\t<tr><th scope=row>[2]</th><td>1</td><td>0</td><td>1</td><td>2</td><td>2</td></tr>\n",
       "\t<tr><th scope=row>[3]</th><td>2</td><td>1</td><td>0</td><td>1</td><td>1</td></tr>\n",
       "\t<tr><th scope=row>[4]</th><td>3</td><td>2</td><td>1</td><td>0</td><td>2</td></tr>\n",
       "\t<tr><th scope=row>[5]</th><td>3</td><td>2</td><td>1</td><td>2</td><td>0</td></tr>\n",
       "</tbody>\n",
       "</table>\n"
      ],
      "text/latex": [
       "A matrix: 5 × 5 of type dbl\n",
       "\\begin{tabular}{r|lllll}\n",
       "  & {[}1{]} & {[}2{]} & {[}3{]} & {[}4{]} & {[}5{]}\\\\\n",
       "\\hline\n",
       "\t{[}1{]} & 0 & 1 & 2 & 3 & 3\\\\\n",
       "\t{[}2{]} & 1 & 0 & 1 & 2 & 2\\\\\n",
       "\t{[}3{]} & 2 & 1 & 0 & 1 & 1\\\\\n",
       "\t{[}4{]} & 3 & 2 & 1 & 0 & 2\\\\\n",
       "\t{[}5{]} & 3 & 2 & 1 & 2 & 0\\\\\n",
       "\\end{tabular}\n"
      ],
      "text/markdown": [
       "\n",
       "A matrix: 5 × 5 of type dbl\n",
       "\n",
       "| <!--/--> | [1] | [2] | [3] | [4] | [5] |\n",
       "|---|---|---|---|---|---|\n",
       "| [1] | 0 | 1 | 2 | 3 | 3 |\n",
       "| [2] | 1 | 0 | 1 | 2 | 2 |\n",
       "| [3] | 2 | 1 | 0 | 1 | 1 |\n",
       "| [4] | 3 | 2 | 1 | 0 | 2 |\n",
       "| [5] | 3 | 2 | 1 | 2 | 0 |\n",
       "\n"
      ],
      "text/plain": [
       "    [1] [2] [3] [4] [5]\n",
       "[1] 0   1   2   3   3  \n",
       "[2] 1   0   1   2   2  \n",
       "[3] 2   1   0   1   1  \n",
       "[4] 3   2   1   0   2  \n",
       "[5] 3   2   1   2   0  "
      ]
     },
     "metadata": {},
     "output_type": "display_data"
    }
   ],
   "source": [
    "print(famform.seq)\n",
    "sub_cost_TRATE <- seqcost(famform.seq, method = \"TRATE\", cval = 2)\n",
    "sub_cost_TRATE\n",
    "seqdist(famform.seq, method = \"OM\", sm = sub_cost_TRATE$sm)"
   ]
  },
  {
   "cell_type": "markdown",
   "id": "c69d0908-9342-41dc-8101-f7526263f6ea",
   "metadata": {},
   "source": [
    "Check the documentation for other methods of generating substitution costs `?seqcost`"
   ]
  },
  {
   "cell_type": "code",
   "execution_count": 15,
   "id": "59733a66-060b-422b-9bf5-52c3a555bb69",
   "metadata": {
    "tags": [
     "hide-output"
    ]
   },
   "outputs": [],
   "source": [
    "?seqcost"
   ]
  },
  {
   "cell_type": "code",
   "execution_count": 16,
   "id": "22b7e7af-1794-42d7-8b0c-f6aec9587943",
   "metadata": {
    "tags": [
     "hide-output"
    ]
   },
   "outputs": [],
   "source": [
    "# ?seqdist"
   ]
  },
  {
   "cell_type": "markdown",
   "id": "52e3c34f-fff5-4d68-9c7b-7392a7487ba2",
   "metadata": {},
   "source": [
    "## 2. Agglomerative clustering of sequences"
   ]
  },
  {
   "cell_type": "markdown",
   "id": "b1d35c8a-d20c-4ea9-ae02-ba4f60da84a1",
   "metadata": {},
   "source": [
    "Some background on hierarchical clustering:\n",
    "\n",
    "Broadly speaking, there are two types:\n",
    "- **Agglomerative clustering**: Commonly referred to as AGNES (AGglomerative NESting) \n",
    "    - Bottom-up approach\n",
    "    - The two data points that are the most similar are combined into a new bigger cluster (nodes). This procedure is iterated until all points are a member of just one single big cluster (root)\n",
    "\n",
    "- **Divisive hierarchical clustering**: Commonly referred to as DIANA (DIvise ANAlysis)\n",
    "    - Top-down approach\n",
    "    - Start with one single big cluster (root), at each iteration, we split the cluster into two least similar clusters, and repeat until each cluster contains a single data point\n",
    "    \n",
    "![](https://miro.medium.com/max/1254/0*E-qictlO_9isi0Dl.png)\n",
    "\n",
    "Source of figure: https://towardsdatascience.com/machine-learning-algorithms-part-12-hierarchical-agglomerative-clustering-example-in-python-1e18e0075019"
   ]
  },
  {
   "cell_type": "markdown",
   "id": "4b4dce33-3ed2-4540-83fc-a67196c4cf52",
   "metadata": {},
   "source": [
    "In this lecture, we will focus on the agglomerative clustering. We are going to use the `agnes()` function from the `cluster` package in R. Essentially, we are going to feed a dissimilarity matrix and specify the method to measure the distance (or similarity) between two clusters of observations."
   ]
  },
  {
   "cell_type": "code",
   "execution_count": 17,
   "id": "89ad1fa1-c658-4e4a-b0ea-2d958f5f0d9f",
   "metadata": {},
   "outputs": [],
   "source": [
    "clusterward <- agnes(famform.seq_OM, diss = TRUE, method = \"ward\")"
   ]
  },
  {
   "cell_type": "code",
   "execution_count": 18,
   "id": "8f92bc4e-48a8-4e38-a177-783c24b049ed",
   "metadata": {},
   "outputs": [
    {
     "data": {
      "text/html": [
       "<table class=\"dataframe\">\n",
       "<caption>A stslist: 5 × 5</caption>\n",
       "<thead>\n",
       "\t<tr><th></th><th scope=col>[1]</th><th scope=col>[2]</th><th scope=col>[3]</th><th scope=col>[4]</th><th scope=col>[5]</th></tr>\n",
       "\t<tr><th></th><th scope=col>&lt;fct&gt;</th><th scope=col>&lt;fct&gt;</th><th scope=col>&lt;fct&gt;</th><th scope=col>&lt;fct&gt;</th><th scope=col>&lt;fct&gt;</th></tr>\n",
       "</thead>\n",
       "<tbody>\n",
       "\t<tr><th scope=row>[1]</th><td>S</td><td>U</td><td>% </td><td>% </td><td>% </td></tr>\n",
       "\t<tr><th scope=row>[2]</th><td>S</td><td>U</td><td>M </td><td>% </td><td>% </td></tr>\n",
       "\t<tr><th scope=row>[3]</th><td>S</td><td>U</td><td>M </td><td>MC</td><td>% </td></tr>\n",
       "\t<tr><th scope=row>[4]</th><td>S</td><td>U</td><td>M </td><td>MC</td><td>SC</td></tr>\n",
       "\t<tr><th scope=row>[5]</th><td>U</td><td>M</td><td>MC</td><td>% </td><td>% </td></tr>\n",
       "</tbody>\n",
       "</table>\n"
      ],
      "text/latex": [
       "A stslist: 5 × 5\n",
       "\\begin{tabular}{r|lllll}\n",
       "  & {[}1{]} & {[}2{]} & {[}3{]} & {[}4{]} & {[}5{]}\\\\\n",
       "  & <fct> & <fct> & <fct> & <fct> & <fct>\\\\\n",
       "\\hline\n",
       "\t{[}1{]} & S & U & \\%  & \\%  & \\% \\\\\n",
       "\t{[}2{]} & S & U & M  & \\%  & \\% \\\\\n",
       "\t{[}3{]} & S & U & M  & MC & \\% \\\\\n",
       "\t{[}4{]} & S & U & M  & MC & SC\\\\\n",
       "\t{[}5{]} & U & M & MC & \\%  & \\% \\\\\n",
       "\\end{tabular}\n"
      ],
      "text/markdown": [
       "\n",
       "A stslist: 5 × 5\n",
       "\n",
       "| <!--/--> | [1] &lt;fct&gt; | [2] &lt;fct&gt; | [3] &lt;fct&gt; | [4] &lt;fct&gt; | [5] &lt;fct&gt; |\n",
       "|---|---|---|---|---|---|\n",
       "| [1] | S | U | %  | %  | %  |\n",
       "| [2] | S | U | M  | %  | %  |\n",
       "| [3] | S | U | M  | MC | %  |\n",
       "| [4] | S | U | M  | MC | SC |\n",
       "| [5] | U | M | MC | %  | %  |\n",
       "\n"
      ],
      "text/plain": [
       "    [1] [2] [3] [4] [5]\n",
       "[1] S   U   %   %   %  \n",
       "[2] S   U   M   %   %  \n",
       "[3] S   U   M   MC  %  \n",
       "[4] S   U   M   MC  SC \n",
       "[5] U   M   MC  %   %  "
      ]
     },
     "metadata": {},
     "output_type": "display_data"
    },
    {
     "data": {
      "image/png": "[encoded data removed]",
      "text/plain": [
       "Plot with title “Banner of  agnes(x = famform.seq_OM, diss = TRUE, method = \"ward\")”"
      ]
     },
     "metadata": {
      "filenames": {
       "image/png": "/Users/quannguyen/temporal_analysis/_build/jupyter_execute/lectures/Lecture2_35_1.png"
      },
      "image/png": {
       "height": 420,
       "width": 420
      }
     },
     "output_type": "display_data"
    },
    {
     "data": {
      "image/png": "[encoded data removed]",
      "text/plain": [
       "Plot with title “Dendrogram of  agnes(x = famform.seq_OM, diss = TRUE, method = \"ward\")”"
      ]
     },
     "metadata": {
      "filenames": {
       "image/png": "/Users/quannguyen/temporal_analysis/_build/jupyter_execute/lectures/Lecture2_35_2.png"
      },
      "image/png": {
       "height": 420,
       "width": 420
      }
     },
     "output_type": "display_data"
    }
   ],
   "source": [
    "famform.seq\n",
    "plot(clusterward)"
   ]
  },
  {
   "cell_type": "markdown",
   "id": "8d89fcd8-f604-44ab-8b7d-75fcc3e52f4c",
   "metadata": {},
   "source": [
    "**How do we measure the dissimilarity between two clusters of observations?**\n",
    "\n",
    "| Linkage methods  | Description                                                                                                                                                                             |\n",
    "|------------------|-----------------------------------------------------------------------------------------------------------------------------------------------------------------------------------------|\n",
    "| Single linkage   | The distance between one cluster and another cluster is taken to be equal to the shortest distance from any data point of one cluster to any data point in another (nearest neighbour)  |\n",
    "| Average linkage  | The distance between two clusters is the average of the dissimilarities between the points in one cluster and the points in the other cluster                                           |\n",
    "| Complete linkage | The distance between one cluster and another cluster is taken to be equal to the longest distance from any data point of one cluster to any data point in another (futherest neighbour) |\n",
    "| Ward             | Minimizes the total within-cluster variance. At each step the pair of clusters with the smallest between-cluster distance are merged                                                    |"
   ]
  },
  {
   "cell_type": "markdown",
   "id": "39c3683a-ff13-4b44-b018-99baa4298ee2",
   "metadata": {},
   "source": [
    "Match each of the following figure to an appropriate linkage method\n",
    "\n",
    "Figure A --> ?\n",
    "Figure B --> ?\n",
    "Figure C --> ?\n",
    "\n",
    "![](https://www.researchgate.net/profile/Yu-Qian-18/publication/350350844/figure/fig2/AS:1012170494074883@1618331659642/The-distance-between-two-clusters-defined-in-single-linkage-SL-A-complete-linkage.png)\n",
    "\n",
    "Source: https://www.researchgate.net/figure/The-distance-between-two-clusters-defined-in-single-linkage-SL-A-complete-linkage_fig2_350350844"
   ]
  },
  {
   "cell_type": "markdown",
   "id": "99f131c8-8a89-42f3-b98b-b6970b8db4f0",
   "metadata": {},
   "source": [
    "**How do you pick the number of clusters?**\n",
    "\n",
    "We usually look at the largest difference of heights\n",
    "\n",
    "![](https://statsandr.com/blog/clustering-analysis-k-means-and-hierarchical-clustering-by-hand-and-in-r_files/optimal%20number%20of%20clusters%20hierarchical%20clustering.png)\n",
    "\n",
    "Source: https://statsandr.com/blog/clustering-analysis-k-means-and-hierarchical-clustering-by-hand-and-in-r/\n",
    "\n",
    "Check out this amazing cheatsheet too: https://statsandr.com/blog/files/Hierarchical-clustering-cheatsheet.pdf"
   ]
  },
  {
   "cell_type": "markdown",
   "id": "2a2dc1e5-0c54-494d-a127-ab5be56c426b",
   "metadata": {},
   "source": [
    "**Where would you draw the line to determine optimal k clusters for each of the dendogram below?**\n",
    "![](img/dendograms.png)"
   ]
  },
  {
   "cell_type": "code",
   "execution_count": 19,
   "id": "fa4f713c-24a8-4c27-b838-259ccb6d49d1",
   "metadata": {},
   "outputs": [
    {
     "data": {
      "image/png": "[encoded data removed]",
      "text/plain": [
       "Plot with title “Dendrogram of  agnes(x = famform.seq_OM, diss = TRUE, method = \"ward\")”"
      ]
     },
     "metadata": {
      "filenames": {
       "image/png": "/Users/quannguyen/temporal_analysis/_build/jupyter_execute/lectures/Lecture2_40_0.png"
      },
      "image/png": {
       "height": 420,
       "width": 420
      }
     },
     "output_type": "display_data"
    }
   ],
   "source": [
    "plot(clusterward, which.plot=2)"
   ]
  },
  {
   "cell_type": "code",
   "execution_count": 20,
   "id": "2877a8e4-75d8-41bd-b693-e6da6db998c2",
   "metadata": {},
   "outputs": [
    {
     "data": {
      "text/html": [
       "<style>\n",
       ".list-inline {list-style: none; margin:0; padding: 0}\n",
       ".list-inline>li {display: inline-block}\n",
       ".list-inline>li:not(:last-child)::after {content: \"\\00b7\"; padding: 0 .5ex}\n",
       "</style>\n",
       "<ol class=list-inline><li>Type 1</li><li>Type 1</li><li>Type 2</li><li>Type 2</li><li>Type 2</li></ol>\n",
       "\n",
       "<details>\n",
       "\t<summary style=display:list-item;cursor:pointer>\n",
       "\t\t<strong>Levels</strong>:\n",
       "\t</summary>\n",
       "\t<style>\n",
       "\t.list-inline {list-style: none; margin:0; padding: 0}\n",
       "\t.list-inline>li {display: inline-block}\n",
       "\t.list-inline>li:not(:last-child)::after {content: \"\\00b7\"; padding: 0 .5ex}\n",
       "\t</style>\n",
       "\t<ol class=list-inline><li>'Type 1'</li><li>'Type 2'</li></ol>\n",
       "</details>"
      ],
      "text/latex": [
       "\\begin{enumerate*}\n",
       "\\item Type 1\n",
       "\\item Type 1\n",
       "\\item Type 2\n",
       "\\item Type 2\n",
       "\\item Type 2\n",
       "\\end{enumerate*}\n",
       "\n",
       "\\emph{Levels}: \\begin{enumerate*}\n",
       "\\item 'Type 1'\n",
       "\\item 'Type 2'\n",
       "\\end{enumerate*}\n"
      ],
      "text/markdown": [
       "1. Type 1\n",
       "2. Type 1\n",
       "3. Type 2\n",
       "4. Type 2\n",
       "5. Type 2\n",
       "\n",
       "\n",
       "\n",
       "**Levels**: 1. 'Type 1'\n",
       "2. 'Type 2'\n",
       "\n",
       "\n"
      ],
      "text/plain": [
       "[1] Type 1 Type 1 Type 2 Type 2 Type 2\n",
       "Levels: Type 1 Type 2"
      ]
     },
     "metadata": {},
     "output_type": "display_data"
    },
    {
     "data": {
      "text/plain": [
       "cluster2\n",
       "1 2 \n",
       "2 3 "
      ]
     },
     "metadata": {},
     "output_type": "display_data"
    },
    {
     "data": {
      "image/png": "[encoded data removed]",
      "text/plain": [
       "Plot with title “ 2”"
      ]
     },
     "metadata": {
      "filenames": {
       "image/png": "/Users/quannguyen/temporal_analysis/_build/jupyter_execute/lectures/Lecture2_41_2.png"
      },
      "image/png": {
       "height": 420,
       "width": 420
      }
     },
     "output_type": "display_data"
    }
   ],
   "source": [
    "# cut the dendogram tree to generate two clusters\n",
    "cluster2 <- cutree(clusterward, k = 2)\n",
    "\n",
    "# create label for clusters\n",
    "factor(cluster2, labels = c(\"Type 1\", \"Type 2\"))\n",
    "\n",
    "# check the number of observations in each cluster\n",
    "table(cluster2)\n",
    "\n",
    "# plot sequence frequency by cluster membership\n",
    "seqfplot(famform.seq, group = cluster2, pbarw = T)"
   ]
  },
  {
   "cell_type": "markdown",
   "id": "9618bcc1-7244-41b3-ae3e-c756eb92ab71",
   "metadata": {},
   "source": [
    "Check the documentation for more details of hierarchical clustering `?agnes`"
   ]
  },
  {
   "cell_type": "code",
   "execution_count": 21,
   "id": "20cc2c56-dcf5-4971-ad35-a1b6d0ca50b6",
   "metadata": {
    "tags": [
     "hide-output"
    ]
   },
   "outputs": [],
   "source": [
    "# ?agnes"
   ]
  }
 ],
 "metadata": {
  "kernelspec": {
   "display_name": "R",
   "language": "R",
   "name": "ir"
  },
  "language_info": {
   "codemirror_mode": "r",
   "file_extension": ".r",
   "mimetype": "text/x-r-source",
   "name": "R",
   "pygments_lexer": "r",
   "version": "4.1.0"
  }
 },
 "nbformat": 4,
 "nbformat_minor": 5
}